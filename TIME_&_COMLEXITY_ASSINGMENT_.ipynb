{
  "nbformat": 4,
  "nbformat_minor": 0,
  "metadata": {
    "colab": {
      "provenance": []
    },
    "kernelspec": {
      "name": "python3",
      "display_name": "Python 3"
    },
    "language_info": {
      "name": "python"
    }
  },
  "cells": [
    {
      "cell_type": "code",
      "execution_count": 2,
      "metadata": {
        "colab": {
          "base_uri": "https://localhost:8080/",
          "height": 72
        },
        "id": "XhyKPEi92WLt",
        "outputId": "513a89ec-2384-47bb-d3d7-cefa320be74d"
      },
      "outputs": [
        {
          "output_type": "execute_result",
          "data": {
            "text/plain": [
              "'\\n\\nThe base case checks if the length of the input array arr is less than or equal to 1.\\nThe pivot element is chosen as the middle element of the array.\\nThe code then creates three subarrays: left, middle, and right.\\nFinally, it recursively calls quicksort on the left and right subarrays.\\nTime Complexity: The average and best-case time complexity of quicksort is O(nlogn)\\n, where n\\n is the size of the input array. However, in the worst case (when the pivot selection is poor), it can be O(n2)\\n. Overall, quicksort is efficient and widely used.'"
            ],
            "application/vnd.google.colaboratory.intrinsic+json": {
              "type": "string"
            }
          },
          "metadata": {},
          "execution_count": 2
        }
      ],
      "source": [
        "#Find time complexity of below code blocks :\n",
        "\n",
        "\n",
        "\n",
        "\n",
        "#Problem 1 :\n",
        "\n",
        "\n",
        "\n",
        "\n",
        "\"\"\"def quicksort(arr):\n",
        "if len(arr) <= 1:\n",
        "return arr\n",
        "pivot = arr[len(arr) // 2]\n",
        "left = [x for x in arr if x < pivot]\n",
        "middle = [x for x in arr if x == pivot]\n",
        "right = [x for x in arr if x > pivot]\n",
        "return quicksort(left) + middle + quicksort(right)\"\"\"\n",
        "\n",
        "\n",
        "\n",
        "\"\"\"\n",
        "\n",
        "The base case checks if the length of the input array arr is less than or equal to 1.\n",
        "The pivot element is chosen as the middle element of the array.\n",
        "The code then creates three subarrays: left, middle, and right.\n",
        "Finally, it recursively calls quicksort on the left and right subarrays.\n",
        "Time Complexity: The average and best-case time complexity of quicksort is O(nlogn)\n",
        ", where n\n",
        " is the size of the input array. However, in the worst case (when the pivot selection is poor), it can be O(n2)\n",
        ". Overall, quicksort is efficient and widely used.\"\"\"\n",
        "\n",
        "\n",
        "\n"
      ]
    },
    {
      "cell_type": "code",
      "source": [
        "#Problem 2 :\n",
        "\n",
        "\"\"\"def nested_loop_example(matrix):\n",
        "rows, cols = len(matrix), len(matrix[0])\n",
        "total = 0\n",
        "for i in range(rows):\n",
        "for j in range(cols):\n",
        "total += matrix[i][j]\n",
        "return total\"\"\"\n",
        "\n",
        "\n",
        "\n",
        "\n",
        "\"\"\"We have an outer loop that iterates over the rows of the matrix. The number of iterations for the outer loop is equal to the number of rows, which we’ll denote as n\n",
        ".\n",
        "Inside the outer loop, there’s an inner loop that iterates over the columns of the matrix. The number of iterations for the inner loop is equal to the number of columns, which we’ll denote as m\n",
        ".\n",
        "\n",
        "The total number of iterations is given by the product of the number of rows and the number of columns:\n",
        "Total iterations=n×m\n",
        "Therefore, the time complexity of the nested_loop_example function is O(n⋅m)\n",
        " or simply O(N2)\n",
        ", where N\n",
        " represents the total number of elements in the matrix.\"\"\""
      ],
      "metadata": {
        "colab": {
          "base_uri": "https://localhost:8080/",
          "height": 90
        },
        "id": "Ha72TJy4232X",
        "outputId": "2c4b8fb4-b1b7-49ab-9fc5-398ef82361e9"
      },
      "execution_count": 3,
      "outputs": [
        {
          "output_type": "execute_result",
          "data": {
            "text/plain": [
              "'We have an outer loop that iterates over the rows of the matrix. The number of iterations for the outer loop is equal to the number of rows, which we’ll denote as n\\n.\\nInside the outer loop, there’s an inner loop that iterates over the columns of the matrix. The number of iterations for the inner loop is equal to the number of columns, which we’ll denote as m\\n.\\n\\nThe total number of iterations is given by the product of the number of rows and the number of columns:\\nTotal\\xa0iterations=n×m\\nTherefore, the time complexity of the nested_loop_example function is O(n⋅m)\\n or simply O(N2)\\n, where N\\n represents the total number of elements in the matrix.'"
            ],
            "application/vnd.google.colaboratory.intrinsic+json": {
              "type": "string"
            }
          },
          "metadata": {},
          "execution_count": 3
        }
      ]
    },
    {
      "cell_type": "code",
      "source": [
        "#Problem 3 :\n",
        "\n",
        "\n",
        "\"\"\"def example_function(arr):\n",
        "result = 0\n",
        "for element in arr:\n",
        "result += element\n",
        "return result\"\"\"\n",
        "\n",
        "\n",
        "\n",
        "\n",
        "\"\"\"We have a loop that iterates through each element in the array arr.\n",
        "The loop runs exactly n times, where n is the size of the input array.\n",
        "\n",
        "Therefore, the time complexity of the example_function is linear and can be expressed as O(n)\n",
        ", where n\n",
        " represents the number of elements in the array.\"\"\""
      ],
      "metadata": {
        "colab": {
          "base_uri": "https://localhost:8080/",
          "height": 54
        },
        "id": "6LGvGSo_3hLL",
        "outputId": "35e942f9-af8c-4aba-d247-c5df5f0a543a"
      },
      "execution_count": 4,
      "outputs": [
        {
          "output_type": "execute_result",
          "data": {
            "text/plain": [
              "'We have a loop that iterates through each element in the array arr.\\nThe loop runs exactly n times, where n is the size of the input array.\\n\\nTherefore, the time complexity of the example_function is linear and can be expressed as O(n)\\n, where n\\n represents the number of elements in the array.'"
            ],
            "application/vnd.google.colaboratory.intrinsic+json": {
              "type": "string"
            }
          },
          "metadata": {},
          "execution_count": 4
        }
      ]
    },
    {
      "cell_type": "code",
      "source": [
        "#Problem 4 :\n",
        "\n",
        "\"\"\"def longest_increasing_subsequence(nums):\n",
        "n = len(nums)\n",
        "lis = [1] * n\n",
        "for i in range(1, n):\n",
        "for j in range(0, i):\n",
        "if nums[i] > nums[j] and lis[i] < lis[j] + 1:\n",
        "lis[i] = lis[j] + 1\n",
        "return max(lis)\"\"\"\n",
        "\n",
        "\n",
        "\n",
        "\"\"\"We have two nested loops:\n",
        "\n",
        "The outer loop iterates from index 1 to n−1\n",
        " (where n\n",
        " is the length of nums).\n",
        "The inner loop iterates from index 0 to i−1\n",
        ".\n",
        "\n",
        "\n",
        "Inside the inner loop, we compare elements and update the lis (longest increasing subsequence) array.\n",
        "The comparison and update operations take constant time.\n",
        "\n",
        "The total number of iterations can be expressed as the sum of the first n−1\n",
        " positive integers:\n",
        "1+2+3+…+(n−1)=2n(n−1)​\n",
        "Therefore, the time complexity of the longest_increasing_subsequence function is O(n2)\n",
        ".\"\"\""
      ],
      "metadata": {
        "colab": {
          "base_uri": "https://localhost:8080/",
          "height": 72
        },
        "id": "b7wIR6T-347w",
        "outputId": "64791426-08ff-4bd3-8a8f-977f7ce803b2"
      },
      "execution_count": 5,
      "outputs": [
        {
          "output_type": "execute_result",
          "data": {
            "text/plain": [
              "'We have two nested loops:\\n\\nThe outer loop iterates from index 1 to n−1\\n (where n\\n is the length of nums).\\nThe inner loop iterates from index 0 to i−1\\n.\\n\\n\\nInside the inner loop, we compare elements and update the lis (longest increasing subsequence) array.\\nThe comparison and update operations take constant time.\\n\\nThe total number of iterations can be expressed as the sum of the first n−1\\n positive integers:\\n1+2+3+…+(n−1)=2n(n−1)\\u200b\\nTherefore, the time complexity of the longest_increasing_subsequence function is O(n2)\\n.'"
            ],
            "application/vnd.google.colaboratory.intrinsic+json": {
              "type": "string"
            }
          },
          "metadata": {},
          "execution_count": 5
        }
      ]
    },
    {
      "cell_type": "code",
      "source": [
        "#Problem 5 :\n",
        "\"\"\"def mysterious_function(arr):\n",
        "n = len(arr)\n",
        "result = 0\n",
        "for i in range(n):\n",
        "for j in range(i, n):\n",
        "result += arr[i] * arr[j]\n",
        "return result\"\"\"\n",
        "\n",
        "\n",
        "\n",
        "\n",
        "\"\"\"We have two nested loops:\n",
        "\n",
        "The outer loop iterates from index 0 to n−1\n",
        " (where n\n",
        " is the length of arr).\n",
        "The inner loop iterates from index i\n",
        " to n−1\n",
        ".\n",
        "\n",
        "\n",
        "Inside the inner loop, we perform a constant-time operation (multiplication) for each pair of elements.\n",
        "The total number of iterations can be expressed as the sum of the first n+(n−1)+(n−2)+…+1\n",
        " positive integers.\n",
        "\n",
        "Using the formula for the sum of the first k\n",
        " positive integers:\n",
        "i=1∑k​i=2k(k+1)​\n",
        "We get:\n",
        "Total iterations=2n(n+1)​\n",
        "Therefore, the time complexity of the mysterious_function is O(n2)\n",
        ".\"\"\""
      ],
      "metadata": {
        "colab": {
          "base_uri": "https://localhost:8080/",
          "height": 72
        },
        "id": "KYFWDy4K4PCO",
        "outputId": "931a2c1a-938b-407a-cdf7-4d59c7e1bc6c"
      },
      "execution_count": 6,
      "outputs": [
        {
          "output_type": "execute_result",
          "data": {
            "text/plain": [
              "'We have two nested loops:\\n\\nThe outer loop iterates from index 0 to n−1\\n (where n\\n is the length of arr).\\nThe inner loop iterates from index i\\n to n−1\\n.\\n\\n\\nInside the inner loop, we perform a constant-time operation (multiplication) for each pair of elements.\\nThe total number of iterations can be expressed as the sum of the first n+(n−1)+(n−2)+…+1\\n positive integers.\\n\\nUsing the formula for the sum of the first k\\n positive integers:\\ni=1∑k\\u200bi=2k(k+1)\\u200b\\nWe get:\\nTotal\\xa0iterations=2n(n+1)\\u200b\\nTherefore, the time complexity of the mysterious_function is O(n2)\\n.'"
            ],
            "application/vnd.google.colaboratory.intrinsic+json": {
              "type": "string"
            }
          },
          "metadata": {},
          "execution_count": 6
        }
      ]
    },
    {
      "cell_type": "code",
      "source": [
        "#Problem 6 : Sum of Digits\n",
        "#Write a recursive function to calculate the sum of digits of a given positive integer.sum_of_digits(123) -> 6\n",
        "\n",
        "\n",
        "def sum_of_digits(n):\n",
        "    # Base case: Single-digit number\n",
        "    if n < 10:\n",
        "        return n\n",
        "    else:\n",
        "        last_digit = n % 10\n",
        "        remaining_digits = n // 10\n",
        "        return last_digit + sum_of_digits(remaining_digits)\n",
        "\n",
        "# Example usage\n",
        "print(sum_of_digits(123))  # Output: 6\n"
      ],
      "metadata": {
        "colab": {
          "base_uri": "https://localhost:8080/"
        },
        "id": "nnbwJez84joP",
        "outputId": "d430f30d-d6f0-4ef5-e8fb-fbbb336c8964"
      },
      "execution_count": 7,
      "outputs": [
        {
          "output_type": "stream",
          "name": "stdout",
          "text": [
            "6\n"
          ]
        }
      ]
    },
    {
      "cell_type": "code",
      "source": [
        "#Problem 7: Fibonacci Series\n",
        "#Write a recursive function to generate the first n numbers of the Fibonacci series.fibonacci_series(6) -> [0, 1, 1, 2, 3, 5]\n",
        "\n",
        "\n",
        "def fibonacci_series(n):\n",
        "    if n <= 0:\n",
        "        return []\n",
        "    elif n == 1:\n",
        "        return [0]\n",
        "    elif n == 2:\n",
        "        return [0, 1]\n",
        "    else:\n",
        "        # Recursively generate the rest of the series\n",
        "        prev_series = fibonacci_series(n - 1)\n",
        "        next_number = prev_series[-1] + prev_series[-2]\n",
        "        return prev_series + [next_number]\n",
        "\n",
        "# Example usage\n",
        "print(fibonacci_series(6))  # Output: [0, 1, 1, 2, 3, 5]\n"
      ],
      "metadata": {
        "colab": {
          "base_uri": "https://localhost:8080/"
        },
        "id": "fSPhiGuC5Aas",
        "outputId": "abbf2f44-a65b-4a20-be8a-91876f11ddda"
      },
      "execution_count": 8,
      "outputs": [
        {
          "output_type": "stream",
          "name": "stdout",
          "text": [
            "[0, 1, 1, 2, 3, 5]\n"
          ]
        }
      ]
    },
    {
      "cell_type": "code",
      "source": [
        "#Problem 8 : Subset Sum\n",
        "#Given a set of positive integers and a target sum, write a recursive function to determine if there exists a subsetof the integers that adds up to the target sum.subset_sum([3, 34, 4, 12, 5, 2], 9) -> True\n",
        "\n",
        "\n",
        "def subset_sum(nums, target, index=0):\n",
        "    # Base case: If the target sum becomes 0, we found a valid subset\n",
        "    if target == 0:\n",
        "        return True\n",
        "    # Base case: If we've exhausted all elements or target becomes negative\n",
        "    if index >= len(nums) or target < 0:\n",
        "        return False\n",
        "    # Include the current element in the subset\n",
        "    include_current = subset_sum(nums, target - nums[index], index + 1)\n",
        "    # Exclude the current element from the subset\n",
        "    exclude_current = subset_sum(nums, target, index + 1)\n",
        "    # Return True if either including or excluding the current element works\n",
        "    return include_current or exclude_current\n",
        "\n",
        "# Example usage\n",
        "nums = [3, 34, 4, 12, 5, 2]\n",
        "target_sum = 9\n",
        "print(subset_sum(nums, target_sum))  # Output: True\n"
      ],
      "metadata": {
        "colab": {
          "base_uri": "https://localhost:8080/"
        },
        "id": "9JROWjD45PMq",
        "outputId": "2b8c532a-d38d-4f86-a22f-9af12b2936f1"
      },
      "execution_count": 9,
      "outputs": [
        {
          "output_type": "stream",
          "name": "stdout",
          "text": [
            "True\n"
          ]
        }
      ]
    },
    {
      "cell_type": "code",
      "source": [
        "#Problem 9: Word Break\n",
        "#Given a non-empty string and a dictionary of words, write a recursive function to determine if the string can be\n",
        "#segmented into a space-separated sequence of dictionary words.\n",
        "#word_break( leetcode , [ leet , code ]) -> True\n",
        "\n",
        "\n",
        "def word_break(s, word_dict):\n",
        "    # Base case: If the string is empty, it can be broken down into an empty list of words\n",
        "    if not s:\n",
        "        return True\n",
        "\n",
        "    # Try all prefixes of the current string\n",
        "    for i in range(1, len(s) + 1):\n",
        "        prefix = s[:i]\n",
        "        if prefix in word_dict and word_break(s[i:], word_dict):\n",
        "            return True\n",
        "\n",
        "    return False\n",
        "\n",
        "# Example usage\n",
        "word_dict = {\"leet\", \"code\"}\n",
        "input_string = \"leetcode\"\n",
        "result = word_break(input_string, word_dict)\n",
        "print(result)  # Output: True\n"
      ],
      "metadata": {
        "colab": {
          "base_uri": "https://localhost:8080/"
        },
        "id": "zzC_s7wP5g4u",
        "outputId": "c68c4838-a12b-4c36-b4cb-6919dae9eedb"
      },
      "execution_count": 10,
      "outputs": [
        {
          "output_type": "stream",
          "name": "stdout",
          "text": [
            "True\n"
          ]
        }
      ]
    },
    {
      "cell_type": "code",
      "source": [
        "#Problem 10 : N-Queens\n",
        "#Implement a recursive function to solve the N Queens problem, where you have to place N queens on an N×Nchessboard in such a way that no two queens threaten each other.n_queens(4)\n",
        "\"\"\"[\n",
        "[\".Q..\",\n",
        "\"...Q\",\n",
        "\"Q...\",\n",
        "\"..Q.\"],\n",
        "[\"..Q.\",\n",
        "\"Q...\",\n",
        "\"...Q\",\n",
        "\".Q..\"]\n",
        "]\n",
        "\"\"\"\n",
        "\n",
        "\n",
        "\n",
        "\n",
        "\n",
        "def is_safe(board, row, col, n):\n",
        "    # Check if a queen can be placed at (row, col) without conflicting with existing queens\n",
        "    for i in range(row):\n",
        "        if board[i][col] == 'Q':\n",
        "            return False\n",
        "        if col - (row - i) >= 0 and board[i][col - (row - i)] == 'Q':\n",
        "            return False\n",
        "        if col + (row - i) < n and board[i][col + (row - i)] == 'Q':\n",
        "            return False\n",
        "    return True\n",
        "\n",
        "def solve_n_queens_helper(board, row, n, result):\n",
        "    if row == n:\n",
        "        result.append([\"\".join(row) for row in board])\n",
        "        return\n",
        "    for col in range(n):\n",
        "        if is_safe(board, row, col, n):\n",
        "            board[row][col] = 'Q'\n",
        "            solve_n_queens_helper(board, row + 1, n, result)\n",
        "            board[row][col] = '.'  # Backtrack\n",
        "\n",
        "def solve_n_queens(n):\n",
        "    board = [['.' for _ in range(n)] for _ in range(n)]\n",
        "    result = []\n",
        "    solve_n_queens_helper(board, 0, n, result)\n",
        "    return result\n",
        "\n",
        "# Example usage\n",
        "n = 4\n",
        "queens_solutions = solve_n_queens(n)\n",
        "for solution in queens_solutions:\n",
        "    print(solution)\n"
      ],
      "metadata": {
        "colab": {
          "base_uri": "https://localhost:8080/"
        },
        "id": "5V9BF9LJ5wAq",
        "outputId": "684881c0-2920-4011-e81b-6c5984fd815a"
      },
      "execution_count": 11,
      "outputs": [
        {
          "output_type": "stream",
          "name": "stdout",
          "text": [
            "['.Q..', '...Q', 'Q...', '..Q.']\n",
            "['..Q.', 'Q...', '...Q', '.Q..']\n"
          ]
        }
      ]
    },
    {
      "cell_type": "code",
      "source": [
        "#COMPLATE#"
      ],
      "metadata": {
        "id": "LUVx2Cst6GKn"
      },
      "execution_count": 12,
      "outputs": []
    },
    {
      "cell_type": "code",
      "source": [],
      "metadata": {
        "id": "4pHRvLOM6S0h"
      },
      "execution_count": null,
      "outputs": []
    }
  ]
}